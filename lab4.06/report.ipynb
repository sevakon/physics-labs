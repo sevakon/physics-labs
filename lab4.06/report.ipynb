{
 "cells": [
  {
   "cell_type": "markdown",
   "metadata": {},
   "source": [
    "# Лабораторая работа 4.06\n",
    "# Определение размера щели по картине дифракции Фраунгофера \n",
    "\n",
    "## Выполнил: Коняхин Всеволод Владимирович, M32051\n",
    "\n",
    "## Краткие теоретические сведения\n",
    "Явления дифракции принято классифицировать в зависимости от расстояний\n",
    "источника и точки наблюдения (экрана) от препятствия, поставленного па пути\n",
    "распространения света. Если эти расстояния очень велики (бесконечно велики), то\n",
    "дифракция называется дифракцией в параллельных лучах или дифракцией\n",
    "Фраунгофера. В противоположном случае говорят о дифракции в непараллельных\n",
    "лучах или дифракции Френеля    \n",
    "\n",
    "Наиболее простым случаем дифракции Фраунгофера является дифракция на\n",
    "узкой щели заданной ширины b. Высота щели считается стремящейся к\n",
    "бесконечности. Несмотря на простоту описания, данный случай имеет в то же\n",
    "время большую практическую значимость, поскольку полученные результаты и\n",
    "зависимости используются для описания дифракции на множестве одинаковых\n",
    "щелей, т.е.решетках, прямоугольных отверстиях и т.д.     \n",
    "\n",
    "## Цель работы \n",
    "Определение ширины щели по картине дифракции в дальней зоне. \n",
    "\n",
    "## Рабочие формулы и исходные данные\n",
    "\n",
    "### Формулы\n",
    "\n",
    "$Z = x_{Э} - x_{О}$    \n",
    "\n",
    "$\\Delta x = x_{m+1} - x_{m} = \\frac{\\lambda}{b} \\cdot Z$\n",
    "\n",
    "$K = \\frac{\\lambda}{b}$\n",
    "\n",
    "### Исходные данные\n",
    "Длина волны $\\lambda = (632.82 \\pm 0.01)$ нм\n",
    "\n",
    "## Схема установки \n",
    "\n",
    "Ниже представлена оптическая схема опыта:    \n",
    "\n",
    "![Схема опыта](img/scheme.png)\n",
    "\n",
    "Так выглядит лабораторная установка:\n",
    "\n",
    "![Вид лабораторной установки](img/setting.png)\n",
    "\n",
    "\n",
    "## Результаты измерений и расчеты"
   ]
  },
  {
   "cell_type": "code",
   "execution_count": 2,
   "metadata": {},
   "outputs": [],
   "source": [
    "import sympy\n",
    "import scipy\n",
    "import numpy as np\n",
    "import pandas as pd\n",
    "from scipy.signal import argrelextrema\n",
    "import matplotlib.pyplot as plt\n",
    "plt.rcParams[\"figure.figsize\"] = (10,5)\n",
    "%matplotlib inline"
   ]
  },
  {
   "cell_type": "markdown",
   "metadata": {},
   "source": [
    "### Координаты последовательных минимумов (в мм) при разных положениях объекта 32"
   ]
  },
  {
   "cell_type": "code",
   "execution_count": 3,
   "metadata": {},
   "outputs": [
    {
     "data": {
      "text/html": [
       "<div>\n",
       "<style scoped>\n",
       "    .dataframe tbody tr th:only-of-type {\n",
       "        vertical-align: middle;\n",
       "    }\n",
       "\n",
       "    .dataframe tbody tr th {\n",
       "        vertical-align: top;\n",
       "    }\n",
       "\n",
       "    .dataframe thead th {\n",
       "        text-align: right;\n",
       "    }\n",
       "</style>\n",
       "<table border=\"1\" class=\"dataframe\">\n",
       "  <thead>\n",
       "    <tr style=\"text-align: right;\">\n",
       "      <th></th>\n",
       "      <th>X объекта, мм</th>\n",
       "      <th>$x_{m1}$, мм</th>\n",
       "      <th>$x_{m2}$, мм</th>\n",
       "      <th>$x_{m3}$, мм</th>\n",
       "      <th>$x_{m4}$, мм</th>\n",
       "      <th>$x_{m5}$, мм</th>\n",
       "    </tr>\n",
       "  </thead>\n",
       "  <tbody>\n",
       "    <tr>\n",
       "      <td>0</td>\n",
       "      <td>220</td>\n",
       "      <td>19</td>\n",
       "      <td>39</td>\n",
       "      <td>59</td>\n",
       "      <td>78</td>\n",
       "      <td>98</td>\n",
       "    </tr>\n",
       "    <tr>\n",
       "      <td>1</td>\n",
       "      <td>270</td>\n",
       "      <td>18</td>\n",
       "      <td>34</td>\n",
       "      <td>53</td>\n",
       "      <td>74</td>\n",
       "      <td>93</td>\n",
       "    </tr>\n",
       "    <tr>\n",
       "      <td>2</td>\n",
       "      <td>320</td>\n",
       "      <td>17</td>\n",
       "      <td>34</td>\n",
       "      <td>52</td>\n",
       "      <td>69</td>\n",
       "      <td>87</td>\n",
       "    </tr>\n",
       "    <tr>\n",
       "      <td>3</td>\n",
       "      <td>370</td>\n",
       "      <td>16</td>\n",
       "      <td>32</td>\n",
       "      <td>48</td>\n",
       "      <td>64</td>\n",
       "      <td>81</td>\n",
       "    </tr>\n",
       "    <tr>\n",
       "      <td>4</td>\n",
       "      <td>420</td>\n",
       "      <td>16</td>\n",
       "      <td>31</td>\n",
       "      <td>47</td>\n",
       "      <td>62</td>\n",
       "      <td>78</td>\n",
       "    </tr>\n",
       "  </tbody>\n",
       "</table>\n",
       "</div>"
      ],
      "text/plain": [
       "   X объекта, мм  $x_{m1}$, мм  $x_{m2}$, мм  $x_{m3}$, мм  $x_{m4}$, мм  \\\n",
       "0            220            19            39            59            78   \n",
       "1            270            18            34            53            74   \n",
       "2            320            17            34            52            69   \n",
       "3            370            16            32            48            64   \n",
       "4            420            16            31            47            62   \n",
       "\n",
       "   $x_{m5}$, мм  \n",
       "0            98  \n",
       "1            93  \n",
       "2            87  \n",
       "3            81  \n",
       "4            78  "
      ]
     },
     "execution_count": 3,
     "metadata": {},
     "output_type": "execute_result"
    }
   ],
   "source": [
    "df32 = pd.DataFrame({'X объекта, мм': [220, 270, 320, 370, 420],\n",
    "                     '$x_{m1}$, мм' : [19, 18, 17, 16, 16],\n",
    "                     '$x_{m2}$, мм' : [39, 34, 34, 32, 31],\n",
    "                     '$x_{m3}$, мм' : [59, 53, 52, 48, 47],\n",
    "                     '$x_{m4}$, мм' : [78, 74, 69, 64, 62],\n",
    "                     '$x_{m5}$, мм' : [98, 93, 87, 81, 78]})\n",
    "\n",
    "x_screen = 1200\n",
    "\n",
    "alpha = 632.82 * 10 ** (-9)\n",
    "delta_alpha = 0.01 * 10 ** (-9)\n",
    "\n",
    "df32"
   ]
  },
  {
   "cell_type": "code",
   "execution_count": 4,
   "metadata": {},
   "outputs": [
    {
     "name": "stdout",
     "output_type": "stream",
     "text": [
      "Координата экрана, 1200 мм\n"
     ]
    }
   ],
   "source": [
    "print('Координата экрана, {} мм'.format(x_screen))"
   ]
  },
  {
   "cell_type": "markdown",
   "metadata": {},
   "source": [
    "Посчитаем расстояние $Z$, период дифракционной картины $\\Delta x$:    \n",
    "$Z = x_{Э} - x_{О}$         \n",
    "$\\Delta x = \\frac{x_{min\\space max} - x_{min\\space min}}{number\\space of\\space minimums}$  \n",
    "\n",
    "### Расстояние между объектом и экраном (Z) и период дифференционной картины (ΔX) при различных координатах объекта 32"
   ]
  },
  {
   "cell_type": "code",
   "execution_count": 5,
   "metadata": {},
   "outputs": [
    {
     "data": {
      "text/html": [
       "<div>\n",
       "<style scoped>\n",
       "    .dataframe tbody tr th:only-of-type {\n",
       "        vertical-align: middle;\n",
       "    }\n",
       "\n",
       "    .dataframe tbody tr th {\n",
       "        vertical-align: top;\n",
       "    }\n",
       "\n",
       "    .dataframe thead th {\n",
       "        text-align: right;\n",
       "    }\n",
       "</style>\n",
       "<table border=\"1\" class=\"dataframe\">\n",
       "  <thead>\n",
       "    <tr style=\"text-align: right;\">\n",
       "      <th></th>\n",
       "      <th>X объекта, мм</th>\n",
       "      <th>Z, мм</th>\n",
       "      <th>$\\Delta x$, мм</th>\n",
       "    </tr>\n",
       "  </thead>\n",
       "  <tbody>\n",
       "    <tr>\n",
       "      <td>0</td>\n",
       "      <td>220</td>\n",
       "      <td>980</td>\n",
       "      <td>15.8</td>\n",
       "    </tr>\n",
       "    <tr>\n",
       "      <td>1</td>\n",
       "      <td>270</td>\n",
       "      <td>930</td>\n",
       "      <td>15.0</td>\n",
       "    </tr>\n",
       "    <tr>\n",
       "      <td>2</td>\n",
       "      <td>320</td>\n",
       "      <td>880</td>\n",
       "      <td>14.0</td>\n",
       "    </tr>\n",
       "    <tr>\n",
       "      <td>3</td>\n",
       "      <td>370</td>\n",
       "      <td>830</td>\n",
       "      <td>13.0</td>\n",
       "    </tr>\n",
       "    <tr>\n",
       "      <td>4</td>\n",
       "      <td>420</td>\n",
       "      <td>780</td>\n",
       "      <td>12.4</td>\n",
       "    </tr>\n",
       "  </tbody>\n",
       "</table>\n",
       "</div>"
      ],
      "text/plain": [
       "   X объекта, мм  Z, мм  $\\Delta x$, мм\n",
       "0            220    980            15.8\n",
       "1            270    930            15.0\n",
       "2            320    880            14.0\n",
       "3            370    830            13.0\n",
       "4            420    780            12.4"
      ]
     },
     "execution_count": 5,
     "metadata": {},
     "output_type": "execute_result"
    }
   ],
   "source": [
    "df32_calc = pd.DataFrame({'X объекта, мм': [220, 270, 320, 370, 420]})\n",
    "df32_calc['Z, мм'] = x_screen - df32_calc['X объекта, мм']\n",
    "df32_calc['$\\Delta x$, мм'] = (df32['$x_{m5}$, мм'] - df32['$x_{m1}$, мм']) / 5\n",
    "df32_calc"
   ]
  },
  {
   "cell_type": "markdown",
   "metadata": {},
   "source": [
    "### Координаты последовательных минимумов (в мм) при разных положениях объекта 33"
   ]
  },
  {
   "cell_type": "code",
   "execution_count": 6,
   "metadata": {},
   "outputs": [
    {
     "data": {
      "text/html": [
       "<div>\n",
       "<style scoped>\n",
       "    .dataframe tbody tr th:only-of-type {\n",
       "        vertical-align: middle;\n",
       "    }\n",
       "\n",
       "    .dataframe tbody tr th {\n",
       "        vertical-align: top;\n",
       "    }\n",
       "\n",
       "    .dataframe thead th {\n",
       "        text-align: right;\n",
       "    }\n",
       "</style>\n",
       "<table border=\"1\" class=\"dataframe\">\n",
       "  <thead>\n",
       "    <tr style=\"text-align: right;\">\n",
       "      <th></th>\n",
       "      <th>X объекта, мм</th>\n",
       "      <th>$x_{m1}$, мм</th>\n",
       "      <th>$x_{m2}$, мм</th>\n",
       "      <th>$x_{m3}$, мм</th>\n",
       "      <th>$x_{m4}$, мм</th>\n",
       "      <th>$x_{m5}$, мм</th>\n",
       "    </tr>\n",
       "  </thead>\n",
       "  <tbody>\n",
       "    <tr>\n",
       "      <td>0</td>\n",
       "      <td>170</td>\n",
       "      <td>13</td>\n",
       "      <td>26</td>\n",
       "      <td>39</td>\n",
       "      <td>52</td>\n",
       "      <td>65</td>\n",
       "    </tr>\n",
       "    <tr>\n",
       "      <td>1</td>\n",
       "      <td>220</td>\n",
       "      <td>12</td>\n",
       "      <td>25</td>\n",
       "      <td>37</td>\n",
       "      <td>49</td>\n",
       "      <td>62</td>\n",
       "    </tr>\n",
       "    <tr>\n",
       "      <td>2</td>\n",
       "      <td>270</td>\n",
       "      <td>12</td>\n",
       "      <td>24</td>\n",
       "      <td>35</td>\n",
       "      <td>47</td>\n",
       "      <td>59</td>\n",
       "    </tr>\n",
       "    <tr>\n",
       "      <td>3</td>\n",
       "      <td>320</td>\n",
       "      <td>11</td>\n",
       "      <td>22</td>\n",
       "      <td>33</td>\n",
       "      <td>44</td>\n",
       "      <td>56</td>\n",
       "    </tr>\n",
       "    <tr>\n",
       "      <td>4</td>\n",
       "      <td>370</td>\n",
       "      <td>11</td>\n",
       "      <td>21</td>\n",
       "      <td>31</td>\n",
       "      <td>42</td>\n",
       "      <td>53</td>\n",
       "    </tr>\n",
       "  </tbody>\n",
       "</table>\n",
       "</div>"
      ],
      "text/plain": [
       "   X объекта, мм  $x_{m1}$, мм  $x_{m2}$, мм  $x_{m3}$, мм  $x_{m4}$, мм  \\\n",
       "0            170            13            26            39            52   \n",
       "1            220            12            25            37            49   \n",
       "2            270            12            24            35            47   \n",
       "3            320            11            22            33            44   \n",
       "4            370            11            21            31            42   \n",
       "\n",
       "   $x_{m5}$, мм  \n",
       "0            65  \n",
       "1            62  \n",
       "2            59  \n",
       "3            56  \n",
       "4            53  "
      ]
     },
     "execution_count": 6,
     "metadata": {},
     "output_type": "execute_result"
    }
   ],
   "source": [
    "df33 = pd.DataFrame({'X объекта, мм': [170, 220, 270, 320, 370],\n",
    "                     '$x_{m1}$, мм' : [13, 12, 12, 11, 11],\n",
    "                     '$x_{m2}$, мм' : [26, 25, 24, 22, 21],\n",
    "                     '$x_{m3}$, мм' : [39, 37, 35, 33, 31],\n",
    "                     '$x_{m4}$, мм' : [52, 49, 47, 44, 42],\n",
    "                     '$x_{m5}$, мм' : [65, 62, 59, 56, 53]})\n",
    "\n",
    "df33"
   ]
  },
  {
   "cell_type": "markdown",
   "metadata": {},
   "source": [
    "### Расстояние между объектом и экраном (Z) и период дифференционной картины (ΔX) при различных координатах объекта 33"
   ]
  },
  {
   "cell_type": "code",
   "execution_count": 7,
   "metadata": {},
   "outputs": [
    {
     "data": {
      "text/html": [
       "<div>\n",
       "<style scoped>\n",
       "    .dataframe tbody tr th:only-of-type {\n",
       "        vertical-align: middle;\n",
       "    }\n",
       "\n",
       "    .dataframe tbody tr th {\n",
       "        vertical-align: top;\n",
       "    }\n",
       "\n",
       "    .dataframe thead th {\n",
       "        text-align: right;\n",
       "    }\n",
       "</style>\n",
       "<table border=\"1\" class=\"dataframe\">\n",
       "  <thead>\n",
       "    <tr style=\"text-align: right;\">\n",
       "      <th></th>\n",
       "      <th>X объекта, мм</th>\n",
       "      <th>Z, мм</th>\n",
       "      <th>$\\Delta x$, мм</th>\n",
       "    </tr>\n",
       "  </thead>\n",
       "  <tbody>\n",
       "    <tr>\n",
       "      <td>0</td>\n",
       "      <td>170</td>\n",
       "      <td>1030</td>\n",
       "      <td>10.4</td>\n",
       "    </tr>\n",
       "    <tr>\n",
       "      <td>1</td>\n",
       "      <td>220</td>\n",
       "      <td>980</td>\n",
       "      <td>10.0</td>\n",
       "    </tr>\n",
       "    <tr>\n",
       "      <td>2</td>\n",
       "      <td>270</td>\n",
       "      <td>930</td>\n",
       "      <td>9.4</td>\n",
       "    </tr>\n",
       "    <tr>\n",
       "      <td>3</td>\n",
       "      <td>320</td>\n",
       "      <td>880</td>\n",
       "      <td>9.0</td>\n",
       "    </tr>\n",
       "    <tr>\n",
       "      <td>4</td>\n",
       "      <td>370</td>\n",
       "      <td>830</td>\n",
       "      <td>8.4</td>\n",
       "    </tr>\n",
       "  </tbody>\n",
       "</table>\n",
       "</div>"
      ],
      "text/plain": [
       "   X объекта, мм  Z, мм  $\\Delta x$, мм\n",
       "0            170   1030            10.4\n",
       "1            220    980            10.0\n",
       "2            270    930             9.4\n",
       "3            320    880             9.0\n",
       "4            370    830             8.4"
      ]
     },
     "execution_count": 7,
     "metadata": {},
     "output_type": "execute_result"
    }
   ],
   "source": [
    "df33_calc = pd.DataFrame({'X объекта, мм': [170, 220, 270, 320, 370]})\n",
    "df33_calc['Z, мм'] = x_screen - df33_calc['X объекта, мм']\n",
    "df33_calc['$\\Delta x$, мм'] = (df33['$x_{m5}$, мм'] - df33['$x_{m1}$, мм']) / 5\n",
    "df33_calc"
   ]
  },
  {
   "cell_type": "markdown",
   "metadata": {},
   "source": [
    "### Построения аппроксимирующей прямой \n",
    "Для этого обучим линейную регрессию на $\\Delta x$ от $Z$:"
   ]
  },
  {
   "cell_type": "code",
   "execution_count": 10,
   "metadata": {},
   "outputs": [
    {
     "name": "stdout",
     "output_type": "stream",
     "text": [
      "Для объекта 32, K = 0.0176, b = -1.448\n",
      "Для объекта 33, K = 0.01, b = 0.140\n"
     ]
    }
   ],
   "source": [
    "from sklearn import linear_model\n",
    "\n",
    "regr_32 = linear_model.LinearRegression()\n",
    "X_32 = np.array(df32_calc['Z, мм']).reshape(-1, 1)\n",
    "y_32 = np.array(df32_calc['$\\Delta x$, мм'])\n",
    "regr_32.fit(X_32, y_32)\n",
    "\n",
    "regr_33 = linear_model.LinearRegression()\n",
    "X_33 = np.array(df33_calc['Z, мм']).reshape(-1, 1)\n",
    "y_33 = np.array(df33_calc['$\\Delta x$, мм'])\n",
    "regr_33.fit(X_33, y_33)\n",
    "\n",
    "print('Для объекта 32, K = {:.4f}, b = {:.3f}'.format(regr_32.coef_[0], regr_32.intercept_))\n",
    "print('Для объекта 33, K = {:.2f}, b = {:.3f}'.format(regr_33.coef_[0], regr_33.intercept_))"
   ]
  },
  {
   "cell_type": "code",
   "execution_count": 12,
   "metadata": {
    "scrolled": true
   },
   "outputs": [
    {
     "data": {
      "image/png": "[encoded data removed]",
      "text/plain": [
       "<Figure size 1440x360 with 1 Axes>"
      ]
     },
     "metadata": {
      "needs_background": "light"
     },
     "output_type": "display_data"
    }
   ],
   "source": [
    "fig, ax = plt.subplots(figsize=(20, 5))\n",
    "ax.set_title('Зависимость периода дифракционной картины от расстояния между экраном и объектом для двух объектов')\n",
    "X_33 = X_33.reshape(5)\n",
    "ax.scatter(X_33, y_33, c='r')\n",
    "k, b = regr_33.coef_[0], regr_33.intercept_\n",
    "x = np.linspace(750, 1050, 50)\n",
    "ax.plot(x, np.polyval([k, b], x), 'r--')\n",
    "\n",
    "X_32 = X_32.reshape(5)\n",
    "ax.scatter(X_32, y_32, c='b')\n",
    "k, b = regr_32.coef_[0], regr_32.intercept_\n",
    "x = np.linspace(750, 1050, 50)\n",
    "ax.plot(x, np.polyval([k, b], x), 'b--')\n",
    "\n",
    "plt.show()"
   ]
  },
  {
   "cell_type": "markdown",
   "metadata": {},
   "source": [
    "Найдем ширину щели для каждого объекта 32 и 33:    \n",
    "$b = \\frac{\\lambda}{K}$"
   ]
  },
  {
   "cell_type": "code",
   "execution_count": 19,
   "metadata": {},
   "outputs": [
    {
     "name": "stdout",
     "output_type": "stream",
     "text": [
      "Ширина щели для объекта 32: 35.96 мкм\n",
      "Ширина щели для объекта 33: 63.28 мкм\n"
     ]
    }
   ],
   "source": [
    "b_32 = alpha / regr_32.coef_[0] \n",
    "b_33 = alpha / regr_33.coef_[0]\n",
    "\n",
    "print('Ширина щели для объекта 32: {:.2f} мкм'.format(b_32 * 10 ** 6))\n",
    "print('Ширина щели для объекта 33: {:.2f} мкм'.format(b_33 * 10 ** 6))"
   ]
  },
  {
   "cell_type": "code",
   "execution_count": null,
   "metadata": {},
   "outputs": [],
   "source": []
  }
 ],
 "metadata": {
  "kernelspec": {
   "display_name": "Python 3",
   "language": "python",
   "name": "python3"
  },
  "language_info": {
   "codemirror_mode": {
    "name": "ipython",
    "version": 3
   },
   "file_extension": ".py",
   "mimetype": "text/x-python",
   "name": "python",
   "nbconvert_exporter": "python",
   "pygments_lexer": "ipython3",
   "version": "3.7.4"
  }
 },
 "nbformat": 4,
 "nbformat_minor": 4
}
