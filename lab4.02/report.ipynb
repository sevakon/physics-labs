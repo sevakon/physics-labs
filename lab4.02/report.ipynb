{
 "cells": [
  {
   "cell_type": "markdown",
   "metadata": {},
   "source": [
    "# Лабораторая работа 4.02\n",
    "# Определение расстояния между двумя щелями интерфереционным методом\n",
    "\n",
    "## Выполнил: Коняхин Всеволод Владимирович, M32051\n",
    "\n",
    "## Краткие теоретические сведения\n",
    "При наложении когерентных волн происходит перераспределение светового\n",
    "потока в пространстве, в результате чего в одних местах возникают максимумы, а\n",
    "в других — минимумы интенсивности. Это явление называется интерференцией\n",
    "волн.     \n",
    "Существуют два основных типа интерференционных схем: схема,\n",
    "построенная на основе деления волнового фронта, и схема, построенная на методе\n",
    "деления амплитуды.   \n",
    "В данной работе рассматривается опыт Юнга, основанный на делении волнового фронта. Снизу приведена схема опыта Юнга.    "
   ]
  },
  {
   "cell_type": "markdown",
   "metadata": {},
   "source": [
    "![Схема Опыта Юнга](img/scheme.png)"
   ]
  },
  {
   "cell_type": "markdown",
   "metadata": {},
   "source": [
    "## Цель работы\n",
    "Определить расстояния между двумя щелями по полученной от них интерференционной картине."
   ]
  },
  {
   "cell_type": "markdown",
   "metadata": {},
   "source": [
    "## Рабочие формулы и исходные данные\n",
    "\n",
    "### Формулы\n",
    "$\\Delta x = \\frac{\\lambda}{d}L$     \n",
    "$L = x_{Э} - x_{О}$\n",
    "\n",
    "### Исходные данные\n",
    "$\\lambda = (632.82 \\pm 0.01) \\space нм$ \n",
    "\n",
    "### Схема установки"
   ]
  },
  {
   "cell_type": "markdown",
   "metadata": {},
   "source": [
    "![Схема установки](img/setting.png)"
   ]
  },
  {
   "cell_type": "markdown",
   "metadata": {},
   "source": [
    "## Результаты измерений и расчеты"
   ]
  },
  {
   "cell_type": "code",
   "execution_count": 3,
   "metadata": {},
   "outputs": [],
   "source": [
    "import sympy\n",
    "import scipy\n",
    "import numpy as np\n",
    "import pandas as pd\n",
    "from scipy.signal import argrelextrema\n",
    "import matplotlib.pyplot as plt\n",
    "plt.rcParams[\"figure.figsize\"] = (10,5)\n",
    "%matplotlib inline"
   ]
  },
  {
   "cell_type": "markdown",
   "metadata": {},
   "source": [
    "### Координаты последовательных минимумов интенсивности при разных положениях объекта 33"
   ]
  },
  {
   "cell_type": "code",
   "execution_count": 123,
   "metadata": {},
   "outputs": [
    {
     "data": {
      "text/html": [
       "<div>\n",
       "<style scoped>\n",
       "    .dataframe tbody tr th:only-of-type {\n",
       "        vertical-align: middle;\n",
       "    }\n",
       "\n",
       "    .dataframe tbody tr th {\n",
       "        vertical-align: top;\n",
       "    }\n",
       "\n",
       "    .dataframe thead th {\n",
       "        text-align: right;\n",
       "    }\n",
       "</style>\n",
       "<table border=\"1\" class=\"dataframe\">\n",
       "  <thead>\n",
       "    <tr style=\"text-align: right;\">\n",
       "      <th></th>\n",
       "      <th>X объекта, мм</th>\n",
       "      <th>$x_1$, мм</th>\n",
       "      <th>$x_2$, мм</th>\n",
       "      <th>$x_3$, мм</th>\n",
       "      <th>$x_4$, мм</th>\n",
       "      <th>$x_5$, мм</th>\n",
       "      <th>$x_6$, мм</th>\n",
       "      <th>$x_7$, мм</th>\n",
       "      <th>$x_8$, мм</th>\n",
       "      <th>$x_9$, мм</th>\n",
       "      <th>$x_{10}$, мм</th>\n",
       "      <th>$x_{11}$, мм</th>\n",
       "      <th>$x_{12}$, мм</th>\n",
       "      <th>$x_{13}$, мм</th>\n",
       "      <th>$x_{14}$, мм</th>\n",
       "      <th>$x_{15}$, мм</th>\n",
       "    </tr>\n",
       "  </thead>\n",
       "  <tbody>\n",
       "    <tr>\n",
       "      <th>0</th>\n",
       "      <td>166</td>\n",
       "      <td>-25.0</td>\n",
       "      <td>-22.5</td>\n",
       "      <td>-18.5</td>\n",
       "      <td>-15</td>\n",
       "      <td>-11.5</td>\n",
       "      <td>-8.5</td>\n",
       "      <td>-4.5</td>\n",
       "      <td>-0.5</td>\n",
       "      <td>3.5</td>\n",
       "      <td>7.0</td>\n",
       "      <td>11.0</td>\n",
       "      <td>14.5</td>\n",
       "      <td>18.0</td>\n",
       "      <td>21.5</td>\n",
       "      <td>25.5</td>\n",
       "    </tr>\n",
       "    <tr>\n",
       "      <th>1</th>\n",
       "      <td>266</td>\n",
       "      <td>-25.5</td>\n",
       "      <td>-23.0</td>\n",
       "      <td>-19.5</td>\n",
       "      <td>-16</td>\n",
       "      <td>-13.0</td>\n",
       "      <td>-10.5</td>\n",
       "      <td>-6.5</td>\n",
       "      <td>-3.0</td>\n",
       "      <td>0.0</td>\n",
       "      <td>3.5</td>\n",
       "      <td>6.5</td>\n",
       "      <td>10.0</td>\n",
       "      <td>13.5</td>\n",
       "      <td>16.5</td>\n",
       "      <td>19.5</td>\n",
       "    </tr>\n",
       "    <tr>\n",
       "      <th>2</th>\n",
       "      <td>366</td>\n",
       "      <td>-25.5</td>\n",
       "      <td>-22.5</td>\n",
       "      <td>-19.5</td>\n",
       "      <td>-17</td>\n",
       "      <td>-14.0</td>\n",
       "      <td>-11.5</td>\n",
       "      <td>-9.0</td>\n",
       "      <td>-5.5</td>\n",
       "      <td>-3.5</td>\n",
       "      <td>0.5</td>\n",
       "      <td>3.0</td>\n",
       "      <td>6.0</td>\n",
       "      <td>9.0</td>\n",
       "      <td>12.0</td>\n",
       "      <td>15.0</td>\n",
       "    </tr>\n",
       "    <tr>\n",
       "      <th>3</th>\n",
       "      <td>466</td>\n",
       "      <td>-26.0</td>\n",
       "      <td>-24.0</td>\n",
       "      <td>-21.5</td>\n",
       "      <td>-19</td>\n",
       "      <td>-17.0</td>\n",
       "      <td>-14.0</td>\n",
       "      <td>-11.5</td>\n",
       "      <td>-8.5</td>\n",
       "      <td>-4.0</td>\n",
       "      <td>-2.0</td>\n",
       "      <td>1.0</td>\n",
       "      <td>3.5</td>\n",
       "      <td>6.0</td>\n",
       "      <td>8.5</td>\n",
       "      <td>11.0</td>\n",
       "    </tr>\n",
       "    <tr>\n",
       "      <th>4</th>\n",
       "      <td>566</td>\n",
       "      <td>-26.5</td>\n",
       "      <td>-24.5</td>\n",
       "      <td>-22.0</td>\n",
       "      <td>-20</td>\n",
       "      <td>-18.0</td>\n",
       "      <td>-16.0</td>\n",
       "      <td>-14.0</td>\n",
       "      <td>-12.0</td>\n",
       "      <td>-10.0</td>\n",
       "      <td>-8.0</td>\n",
       "      <td>-6.0</td>\n",
       "      <td>-3.5</td>\n",
       "      <td>-1.5</td>\n",
       "      <td>1.0</td>\n",
       "      <td>3.0</td>\n",
       "    </tr>\n",
       "  </tbody>\n",
       "</table>\n",
       "</div>"
      ],
      "text/plain": [
       "   X объекта, мм  $x_1$, мм  $x_2$, мм  $x_3$, мм  $x_4$, мм  $x_5$, мм  \\\n",
       "0            166      -25.0      -22.5      -18.5        -15      -11.5   \n",
       "1            266      -25.5      -23.0      -19.5        -16      -13.0   \n",
       "2            366      -25.5      -22.5      -19.5        -17      -14.0   \n",
       "3            466      -26.0      -24.0      -21.5        -19      -17.0   \n",
       "4            566      -26.5      -24.5      -22.0        -20      -18.0   \n",
       "\n",
       "   $x_6$, мм  $x_7$, мм  $x_8$, мм  $x_9$, мм  $x_{10}$, мм  $x_{11}$, мм  \\\n",
       "0       -8.5       -4.5       -0.5        3.5           7.0          11.0   \n",
       "1      -10.5       -6.5       -3.0        0.0           3.5           6.5   \n",
       "2      -11.5       -9.0       -5.5       -3.5           0.5           3.0   \n",
       "3      -14.0      -11.5       -8.5       -4.0          -2.0           1.0   \n",
       "4      -16.0      -14.0      -12.0      -10.0          -8.0          -6.0   \n",
       "\n",
       "   $x_{12}$, мм  $x_{13}$, мм  $x_{14}$, мм  $x_{15}$, мм  \n",
       "0          14.5          18.0          21.5          25.5  \n",
       "1          10.0          13.5          16.5          19.5  \n",
       "2           6.0           9.0          12.0          15.0  \n",
       "3           3.5           6.0           8.5          11.0  \n",
       "4          -3.5          -1.5           1.0           3.0  "
      ]
     },
     "execution_count": 123,
     "metadata": {},
     "output_type": "execute_result"
    }
   ],
   "source": [
    "df33 = pd.DataFrame({'X объекта, мм': [166, 266, 366, 466, 566],\n",
    "                     '$x_1$, мм' : [-25, -25.5, -25.5, -26, -26.5],\n",
    "                     '$x_2$, мм' : [-22.5, -23, -22.5, -24, -24.5],\n",
    "                     '$x_3$, мм' : [-18.5, -19.5, -19.5, -21.5, -22],\n",
    "                     '$x_4$, мм' : [-15, -16, -17, -19, -20],\n",
    "                     '$x_5$, мм' : [-11.5, -13, -14, -17, -18],\n",
    "                     '$x_6$, мм' : [-8.5, -10.5, -11.5, -14, -16],\n",
    "                     '$x_7$, мм' : [-4.5, -6.5, -9, -11.5, -14],\n",
    "                     '$x_8$, мм' : [-0.5, -3, -5.5, -8.5, -12],\n",
    "                     '$x_9$, мм' : [3.5, 0, -3.5, -4, -10],\n",
    "                     '$x_{10}$, мм' : [7, 3.5, 0.5, -2, -8],\n",
    "                     '$x_{11}$, мм' : [11, 6.5, 3, 1, -6],\n",
    "                     '$x_{12}$, мм' : [14.5, 10, 6, 3.5, -3.5],\n",
    "                     '$x_{13}$, мм' : [18, 13.5, 9, 6, -1.5],\n",
    "                     '$x_{14}$, мм' : [21.5, 16.5, 12, 8.5, 1],\n",
    "                     '$x_{15}$, мм' : [25.5, 19.5, 15, 11, 3]})\n",
    "\n",
    "x_screen = 1090\n",
    "\n",
    "alpha = 632.82 * 10 ** (-9)\n",
    "delta_alpha = 0.01 * 10 ** (-9)\n",
    "\n",
    "df33"
   ]
  },
  {
   "cell_type": "code",
   "execution_count": 36,
   "metadata": {},
   "outputs": [
    {
     "name": "stdout",
     "output_type": "stream",
     "text": [
      "Координата экрана, 1090 мм\n"
     ]
    }
   ],
   "source": [
    "print('Координата экрана, {} мм'.format(x_screen))"
   ]
  },
  {
   "cell_type": "markdown",
   "metadata": {},
   "source": [
    "Посчитаем $L$, $\\Delta x$:    \n",
    "$L = x_{Э} - x_{О}$         \n",
    "$\\Delta x = \\frac{x_{min\\space max} - x_{min\\space min}}{number\\space of\\space minimums}$"
   ]
  },
  {
   "cell_type": "code",
   "execution_count": 37,
   "metadata": {},
   "outputs": [
    {
     "data": {
      "text/html": [
       "<div>\n",
       "<style scoped>\n",
       "    .dataframe tbody tr th:only-of-type {\n",
       "        vertical-align: middle;\n",
       "    }\n",
       "\n",
       "    .dataframe tbody tr th {\n",
       "        vertical-align: top;\n",
       "    }\n",
       "\n",
       "    .dataframe thead th {\n",
       "        text-align: right;\n",
       "    }\n",
       "</style>\n",
       "<table border=\"1\" class=\"dataframe\">\n",
       "  <thead>\n",
       "    <tr style=\"text-align: right;\">\n",
       "      <th></th>\n",
       "      <th>X объекта, мм</th>\n",
       "      <th>L, мм</th>\n",
       "      <th>$\\Delta x$, мм</th>\n",
       "    </tr>\n",
       "  </thead>\n",
       "  <tbody>\n",
       "    <tr>\n",
       "      <th>0</th>\n",
       "      <td>166</td>\n",
       "      <td>924</td>\n",
       "      <td>3.366667</td>\n",
       "    </tr>\n",
       "    <tr>\n",
       "      <th>1</th>\n",
       "      <td>266</td>\n",
       "      <td>824</td>\n",
       "      <td>3.000000</td>\n",
       "    </tr>\n",
       "    <tr>\n",
       "      <th>2</th>\n",
       "      <td>366</td>\n",
       "      <td>724</td>\n",
       "      <td>2.700000</td>\n",
       "    </tr>\n",
       "    <tr>\n",
       "      <th>3</th>\n",
       "      <td>466</td>\n",
       "      <td>624</td>\n",
       "      <td>2.466667</td>\n",
       "    </tr>\n",
       "    <tr>\n",
       "      <th>4</th>\n",
       "      <td>566</td>\n",
       "      <td>524</td>\n",
       "      <td>1.966667</td>\n",
       "    </tr>\n",
       "  </tbody>\n",
       "</table>\n",
       "</div>"
      ],
      "text/plain": [
       "   X объекта, мм  L, мм  $\\Delta x$, мм\n",
       "0            166    924        3.366667\n",
       "1            266    824        3.000000\n",
       "2            366    724        2.700000\n",
       "3            466    624        2.466667\n",
       "4            566    524        1.966667"
      ]
     },
     "execution_count": 37,
     "metadata": {},
     "output_type": "execute_result"
    }
   ],
   "source": [
    "df33_calc = pd.DataFrame({'X объекта, мм': [166, 266, 366, 466, 566]})\n",
    "df33_calc['L, мм'] = x_screen - df33_calc['X объекта, мм']\n",
    "df33_calc['$\\Delta x$, мм'] = (df33['$x_{15}$, мм'] - df33['$x_1$, мм']) / 15\n",
    "df33_calc"
   ]
  },
  {
   "cell_type": "markdown",
   "metadata": {},
   "source": [
    "### Координаты последовательных минимумов интенсивности при разных положениях объекта 32"
   ]
  },
  {
   "cell_type": "code",
   "execution_count": 38,
   "metadata": {},
   "outputs": [
    {
     "data": {
      "text/html": [
       "<div>\n",
       "<style scoped>\n",
       "    .dataframe tbody tr th:only-of-type {\n",
       "        vertical-align: middle;\n",
       "    }\n",
       "\n",
       "    .dataframe tbody tr th {\n",
       "        vertical-align: top;\n",
       "    }\n",
       "\n",
       "    .dataframe thead th {\n",
       "        text-align: right;\n",
       "    }\n",
       "</style>\n",
       "<table border=\"1\" class=\"dataframe\">\n",
       "  <thead>\n",
       "    <tr style=\"text-align: right;\">\n",
       "      <th></th>\n",
       "      <th>X объекта, мм</th>\n",
       "      <th>$x_1$, мм</th>\n",
       "      <th>$x_2$, мм</th>\n",
       "      <th>$x_3$, мм</th>\n",
       "      <th>$x_4$, мм</th>\n",
       "      <th>$x_5$, мм</th>\n",
       "      <th>$x_6$, мм</th>\n",
       "      <th>$x_7$, мм</th>\n",
       "      <th>$x_8$, мм</th>\n",
       "      <th>$x_9$, мм</th>\n",
       "      <th>$x_{10}$, мм</th>\n",
       "      <th>$x_{11}$, мм</th>\n",
       "      <th>$x_{12}$, мм</th>\n",
       "    </tr>\n",
       "  </thead>\n",
       "  <tbody>\n",
       "    <tr>\n",
       "      <th>0</th>\n",
       "      <td>166</td>\n",
       "      <td>-25.0</td>\n",
       "      <td>-22</td>\n",
       "      <td>-17.0</td>\n",
       "      <td>-13.0</td>\n",
       "      <td>-9.0</td>\n",
       "      <td>-5.0</td>\n",
       "      <td>-1</td>\n",
       "      <td>3.0</td>\n",
       "      <td>7.0</td>\n",
       "      <td>11.0</td>\n",
       "      <td>15.0</td>\n",
       "      <td>19.0</td>\n",
       "    </tr>\n",
       "    <tr>\n",
       "      <th>1</th>\n",
       "      <td>266</td>\n",
       "      <td>-27.0</td>\n",
       "      <td>-23</td>\n",
       "      <td>-19.0</td>\n",
       "      <td>-15.0</td>\n",
       "      <td>-11.5</td>\n",
       "      <td>-7.5</td>\n",
       "      <td>-4</td>\n",
       "      <td>-0.5</td>\n",
       "      <td>3.5</td>\n",
       "      <td>7.0</td>\n",
       "      <td>11.0</td>\n",
       "      <td>14.5</td>\n",
       "    </tr>\n",
       "    <tr>\n",
       "      <th>2</th>\n",
       "      <td>366</td>\n",
       "      <td>-25.5</td>\n",
       "      <td>-22</td>\n",
       "      <td>-19.0</td>\n",
       "      <td>-16.0</td>\n",
       "      <td>-12.5</td>\n",
       "      <td>-9.5</td>\n",
       "      <td>-6</td>\n",
       "      <td>-3.0</td>\n",
       "      <td>0.5</td>\n",
       "      <td>4.0</td>\n",
       "      <td>7.0</td>\n",
       "      <td>11.5</td>\n",
       "    </tr>\n",
       "    <tr>\n",
       "      <th>3</th>\n",
       "      <td>466</td>\n",
       "      <td>-25.0</td>\n",
       "      <td>-23</td>\n",
       "      <td>-19.5</td>\n",
       "      <td>-16.5</td>\n",
       "      <td>-14.0</td>\n",
       "      <td>-11.0</td>\n",
       "      <td>-8</td>\n",
       "      <td>-5.0</td>\n",
       "      <td>-2.0</td>\n",
       "      <td>0.5</td>\n",
       "      <td>4.0</td>\n",
       "      <td>6.5</td>\n",
       "    </tr>\n",
       "    <tr>\n",
       "      <th>4</th>\n",
       "      <td>566</td>\n",
       "      <td>-25.5</td>\n",
       "      <td>-23</td>\n",
       "      <td>-20.5</td>\n",
       "      <td>-18.5</td>\n",
       "      <td>-16.0</td>\n",
       "      <td>-13.5</td>\n",
       "      <td>-11</td>\n",
       "      <td>-9.0</td>\n",
       "      <td>-6.5</td>\n",
       "      <td>-4.0</td>\n",
       "      <td>-1.5</td>\n",
       "      <td>0.5</td>\n",
       "    </tr>\n",
       "  </tbody>\n",
       "</table>\n",
       "</div>"
      ],
      "text/plain": [
       "   X объекта, мм  $x_1$, мм  $x_2$, мм  $x_3$, мм  $x_4$, мм  $x_5$, мм  \\\n",
       "0            166      -25.0        -22      -17.0      -13.0       -9.0   \n",
       "1            266      -27.0        -23      -19.0      -15.0      -11.5   \n",
       "2            366      -25.5        -22      -19.0      -16.0      -12.5   \n",
       "3            466      -25.0        -23      -19.5      -16.5      -14.0   \n",
       "4            566      -25.5        -23      -20.5      -18.5      -16.0   \n",
       "\n",
       "   $x_6$, мм  $x_7$, мм  $x_8$, мм  $x_9$, мм  $x_{10}$, мм  $x_{11}$, мм  \\\n",
       "0       -5.0         -1        3.0        7.0          11.0          15.0   \n",
       "1       -7.5         -4       -0.5        3.5           7.0          11.0   \n",
       "2       -9.5         -6       -3.0        0.5           4.0           7.0   \n",
       "3      -11.0         -8       -5.0       -2.0           0.5           4.0   \n",
       "4      -13.5        -11       -9.0       -6.5          -4.0          -1.5   \n",
       "\n",
       "   $x_{12}$, мм  \n",
       "0          19.0  \n",
       "1          14.5  \n",
       "2          11.5  \n",
       "3           6.5  \n",
       "4           0.5  "
      ]
     },
     "execution_count": 38,
     "metadata": {},
     "output_type": "execute_result"
    }
   ],
   "source": [
    "df32 = pd.DataFrame({'X объекта, мм': [166, 266, 366, 466, 566],\n",
    "                     '$x_1$, мм' : [-25, -27, -25.5, -25, -25.5],\n",
    "                     '$x_2$, мм' : [-22, -23, -22, -23, -23],\n",
    "                     '$x_3$, мм' : [-17, -19, -19, -19.5, -20.5],\n",
    "                     '$x_4$, мм' : [-13, -15, -16, -16.5, -18.5],\n",
    "                     '$x_5$, мм' : [-9, -11.5, -12.5, -14, -16],\n",
    "                     '$x_6$, мм' : [-5, -7.5, -9.5, -11, -13.5],\n",
    "                     '$x_7$, мм' : [-1, -4, -6, -8, -11],\n",
    "                     '$x_8$, мм' : [3, -0.5, -3, -5, -9],\n",
    "                     '$x_9$, мм' : [7, 3.5, 0.5, -2, -6.5],\n",
    "                     '$x_{10}$, мм' : [11, 7, 4, 0.5, -4],\n",
    "                     '$x_{11}$, мм' : [15, 11, 7, 4, -1.5],\n",
    "                     '$x_{12}$, мм' : [19, 14.5, 11.5, 6.5, 0.5]})\n",
    "\n",
    "df32_calc = pd.DataFrame({'X объекта, мм': [166, 266, 366, 466, 566]})\n",
    "df32"
   ]
  },
  {
   "cell_type": "code",
   "execution_count": 39,
   "metadata": {},
   "outputs": [
    {
     "data": {
      "text/html": [
       "<div>\n",
       "<style scoped>\n",
       "    .dataframe tbody tr th:only-of-type {\n",
       "        vertical-align: middle;\n",
       "    }\n",
       "\n",
       "    .dataframe tbody tr th {\n",
       "        vertical-align: top;\n",
       "    }\n",
       "\n",
       "    .dataframe thead th {\n",
       "        text-align: right;\n",
       "    }\n",
       "</style>\n",
       "<table border=\"1\" class=\"dataframe\">\n",
       "  <thead>\n",
       "    <tr style=\"text-align: right;\">\n",
       "      <th></th>\n",
       "      <th>X объекта, мм</th>\n",
       "      <th>L, мм</th>\n",
       "      <th>$\\Delta x$, мм</th>\n",
       "    </tr>\n",
       "  </thead>\n",
       "  <tbody>\n",
       "    <tr>\n",
       "      <th>0</th>\n",
       "      <td>166</td>\n",
       "      <td>924</td>\n",
       "      <td>3.666667</td>\n",
       "    </tr>\n",
       "    <tr>\n",
       "      <th>1</th>\n",
       "      <td>266</td>\n",
       "      <td>824</td>\n",
       "      <td>3.458333</td>\n",
       "    </tr>\n",
       "    <tr>\n",
       "      <th>2</th>\n",
       "      <td>366</td>\n",
       "      <td>724</td>\n",
       "      <td>3.083333</td>\n",
       "    </tr>\n",
       "    <tr>\n",
       "      <th>3</th>\n",
       "      <td>466</td>\n",
       "      <td>624</td>\n",
       "      <td>2.625000</td>\n",
       "    </tr>\n",
       "    <tr>\n",
       "      <th>4</th>\n",
       "      <td>566</td>\n",
       "      <td>524</td>\n",
       "      <td>2.166667</td>\n",
       "    </tr>\n",
       "  </tbody>\n",
       "</table>\n",
       "</div>"
      ],
      "text/plain": [
       "   X объекта, мм  L, мм  $\\Delta x$, мм\n",
       "0            166    924        3.666667\n",
       "1            266    824        3.458333\n",
       "2            366    724        3.083333\n",
       "3            466    624        2.625000\n",
       "4            566    524        2.166667"
      ]
     },
     "execution_count": 39,
     "metadata": {},
     "output_type": "execute_result"
    }
   ],
   "source": [
    "df32_calc = pd.DataFrame({'X объекта, мм': [166, 266, 366, 466, 566]})\n",
    "df32_calc['L, мм'] = x_screen - df32_calc['X объекта, мм']\n",
    "df32_calc['$\\Delta x$, мм'] = (df32['$x_{12}$, мм'] - df32['$x_1$, мм']) / 12\n",
    "df32_calc"
   ]
  },
  {
   "cell_type": "markdown",
   "metadata": {},
   "source": [
    "### Построения аппроксимирующей прямой \n",
    "Для этого обучим линейную регрессию на $\\Delta x$ от $L$:"
   ]
  },
  {
   "cell_type": "code",
   "execution_count": 53,
   "metadata": {},
   "outputs": [
    {
     "name": "stdout",
     "output_type": "stream",
     "text": [
      "Для объекта 33, K = 0.003, b = 0.287\n",
      "Для объекта 32, K = 0.004, b = 0.225\n"
     ]
    }
   ],
   "source": [
    "from sklearn import linear_model\n",
    "\n",
    "regr_33 = linear_model.LinearRegression()\n",
    "X_33 = np.array(df33_calc['L, мм']).reshape(-1, 1)\n",
    "y_33 = np.array(df33_calc['$\\Delta x$, мм'])\n",
    "regr_33.fit(X_33, y_33)\n",
    "\n",
    "regr_32 = linear_model.LinearRegression()\n",
    "X_32 = np.array(df32_calc['L, мм']).reshape(-1, 1)\n",
    "y_32 = np.array(df32_calc['$\\Delta x$, мм'])\n",
    "regr_32.fit(X_32, y_32)\n",
    "\n",
    "print('Для объекта 33, K = {:.3f}, b = {:.3f}'.format(regr_33.coef_[0], regr_33.intercept_))\n",
    "print('Для объекта 32, K = {:.3f}, b = {:.3f}'.format(regr_32.coef_[0], regr_32.intercept_))"
   ]
  },
  {
   "cell_type": "code",
   "execution_count": 76,
   "metadata": {},
   "outputs": [
    {
     "data": {
      "image/png": "[encoded data removed]",
      "text/plain": [
       "<Figure size 1440x360 with 1 Axes>"
      ]
     },
     "metadata": {
      "needs_background": "light"
     },
     "output_type": "display_data"
    }
   ],
   "source": [
    "fig, ax = plt.subplots(figsize=(20, 5))\n",
    "ax.set_title('Зависимость расстояния между минимумами от расстояния между экраном и объектом для двух объектов')\n",
    "X_33 = X_33.reshape(5)\n",
    "ax.scatter(X_33, y_33, c='r')\n",
    "k, b = regr_33.coef_[0], regr_33.intercept_\n",
    "x = np.linspace(500, 1000, 50)\n",
    "ax.plot(x, np.polyval([k, b], x), 'r--')\n",
    "\n",
    "X_32 = X_32.reshape(5)\n",
    "ax.scatter(X_32, y_32, c='b')\n",
    "k, b = regr_32.coef_[0], regr_32.intercept_\n",
    "x = np.linspace(500, 1000, 50)\n",
    "ax.plot(x, np.polyval([k, b], x), 'b--')\n",
    "\n",
    "plt.show()"
   ]
  },
  {
   "cell_type": "markdown",
   "metadata": {},
   "source": [
    "Найдем $d_{33}$ и $d_{32}$, используя $d = \\frac{\\lambda}{K}$"
   ]
  },
  {
   "cell_type": "code",
   "execution_count": 85,
   "metadata": {},
   "outputs": [
    {
     "name": "stdout",
     "output_type": "stream",
     "text": [
      "Расстояние между щелями для 32-го объекта: 165.083 мкм\n",
      "Расстояние между щелями для 33-го объекта: 189.846 мкм\n"
     ]
    }
   ],
   "source": [
    "d_32 = alpha / regr_32.coef_[0]\n",
    "print('Расстояние между щелями для 32-го объекта: {:.3f} мкм'.format(d_32 * 10 ** 6))\n",
    "\n",
    "d_33 = alpha / regr_33.coef_[0]\n",
    "print('Расстояние между щелями для 33-го объекта: {:.3f} мкм'.format(d_33 * 10 ** 6))"
   ]
  },
  {
   "cell_type": "markdown",
   "metadata": {},
   "source": [
    "Найдем $\\overline d$ для расстояния щели по двум точкам"
   ]
  },
  {
   "cell_type": "code",
   "execution_count": 88,
   "metadata": {},
   "outputs": [
    {
     "name": "stdout",
     "output_type": "stream",
     "text": [
      "Среднее расстояние между щелями: 177.465 мкм\n"
     ]
    }
   ],
   "source": [
    "print('Среднее расстояние между щелями: {:.3f} мкм'.format((d_33 + d_32) / 2 * 10 ** 6))"
   ]
  },
  {
   "cell_type": "markdown",
   "metadata": {},
   "source": [
    "Найдем погрешность для среднего расстояния между щелями:    \n",
    "$\\Delta K = \\sqrt{\\frac{\\sum(y_i-Kx_i-b)^2}{(n-2)\\sum(x_i-\\overline{x})^2}}$\n",
    "\n",
    "$\\Delta d = \\sqrt{(\\frac{\\delta d}{\\delta \\lambda}\\cdot \\Delta \\lambda)^2 +  (\\frac{\\delta d}{\\delta K}\\cdot \\Delta K)^2 } = \\sqrt{(\\frac{1}{K}\\Delta \\lambda)^2 + (\\frac{\\lambda}{K^2}\\Delta K)^2}$"
   ]
  },
  {
   "cell_type": "code",
   "execution_count": 128,
   "metadata": {},
   "outputs": [
    {
     "name": "stdout",
     "output_type": "stream",
     "text": [
      "Погрешность для среднего расстояния между щелями: 18.444950130275327 мкм\n"
     ]
    }
   ],
   "source": [
    "from sklearn.metrics import mean_squared_error\n",
    "\n",
    "final_k = np.array([(regr_33.coef_[0] + regr_32.coef_[0]) / 2]).reshape(1, 1)\n",
    "final_b = np.array([(regr_33.intercept_ + regr_32.intercept_) / 2])\n",
    "\n",
    "Xs = np.concatenate((X_32, X_33))\n",
    "ys = np.concatenate((y_32, y_33))\n",
    "\n",
    "mse = mean_squared_error(ys, (final_k * Xs + final_b).reshape(10))\n",
    "\n",
    "\n",
    "delta_k = np.sqrt(mse / np.sum((Xs - np.mean(Xs)) ** 2))\n",
    "delta_d = np.sqrt((delta_alpha / final_k[0][0]) ** 2 + (alpha * delta_k / final_k[0][0] ** 2) ** 2)\n",
    "\n",
    "print('Погрешность для среднего расстояния между щелями: {} мкм'.format(delta_d * 10 ** 6))"
   ]
  },
  {
   "cell_type": "markdown",
   "metadata": {},
   "source": [
    "Тогда $d = \\overline d + \\Delta d = (177 \\pm 18) \\space мкм$"
   ]
  },
  {
   "cell_type": "markdown",
   "metadata": {},
   "source": [
    "### Выводы"
   ]
  },
  {
   "cell_type": "markdown",
   "metadata": {},
   "source": [
    "В ходе данной лабораторной работы был рассмотрен опыт Юнга для вычисления расстояния между щелями с помощью длины волны $\\lambda$, расстояния между объектом и экраном $L$, а также расстояния между минимумами интерференционной картинки $\\Delta x$. Был найден коэффицент $K=\\frac{\\lambda}{d}$ с помощью линейной регрессии $\\Delta x(L) = \\frac{\\lambda}{d}\\cdot L$, откуда было взято расстояние $d = \\frac{\\lambda}{K}$. Это расстояние между щелями получилось равным $(177 \\pm 18)$ мкм "
   ]
  }
 ],
 "metadata": {
  "kernelspec": {
   "display_name": "Python 3",
   "language": "python",
   "name": "python3"
  },
  "language_info": {
   "codemirror_mode": {
    "name": "ipython",
    "version": 3
   },
   "file_extension": ".py",
   "mimetype": "text/x-python",
   "name": "python",
   "nbconvert_exporter": "python",
   "pygments_lexer": "ipython3",
   "version": "3.7.7"
  }
 },
 "nbformat": 4,
 "nbformat_minor": 4
}
